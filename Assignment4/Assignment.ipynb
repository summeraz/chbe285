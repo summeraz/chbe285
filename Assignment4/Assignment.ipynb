{
 "cells": [
  {
   "cell_type": "markdown",
   "metadata": {},
   "source": [
    "# Assignment 4: Creating a complex molecular system using mBuild"
   ]
  },
  {
   "cell_type": "markdown",
   "metadata": {},
   "source": [
    "For this assignment, you will need to fill in the necessary code to complete the two classes below. The first class should be used to instantiate a single molecule of (3,3,4,4,5,5,6,6,6-Nonafluorohexyl)benzene (NFHB). The second class will need to utilize the first class, and should return a box of NFHB molecules. Finally, you will need to instantiate your `NFHB_box` class to create a system featuring 100 NFHB molecules in a 3nm x 3nm x 3nm box, and save to Gromacs topology format (.top extension), making to sure to pass the necessary flag to the save command to atom-type the system using the OPLS-AA force field. Here is a link to the mBuild documentation for reference: http://mosdef-hub.github.io/mbuild/.\n",
    "\n",
    "<img src=\"nfhb.png\">"
   ]
  },
  {
   "cell_type": "markdown",
   "metadata": {},
   "source": [
    "Import mBuild and our visualization routine"
   ]
  },
  {
   "cell_type": "code",
   "execution_count": null,
   "metadata": {
    "collapsed": true
   },
   "outputs": [],
   "source": [
    "%matplotlib notebook\n",
    "from visualize import visualize\n",
    "import mbuild as mb"
   ]
  },
  {
   "cell_type": "markdown",
   "metadata": {},
   "source": [
    "Define a class for a single molecule of NFHB. Use the provided structure files for benzene, CH2, CF2, and CF3."
   ]
  },
  {
   "cell_type": "code",
   "execution_count": null,
   "metadata": {
    "collapsed": true
   },
   "outputs": [],
   "source": [
    "class NFHB(mb.Compound):\n",
    "    \"\"\"A single molecule of (3,3,4,4,5,5,6,6,6-Nonafluorohexyl)benzene. \"\"\"\n",
    "    def __init__(self):\n",
    "        super(NFHB, self).__init__()\n",
    "        \n",
    "        # YOUR\n",
    "        # CODE\n",
    "        # HERE"
   ]
  },
  {
   "cell_type": "markdown",
   "metadata": {},
   "source": [
    "Visualize to make sure the class was defined correctly."
   ]
  },
  {
   "cell_type": "code",
   "execution_count": null,
   "metadata": {
    "collapsed": true
   },
   "outputs": [],
   "source": [
    "nfhb = NFHB()\n",
    "visualize(nfhb)"
   ]
  },
  {
   "cell_type": "markdown",
   "metadata": {},
   "source": [
    "Define a class for a box of NFHB molecules."
   ]
  },
  {
   "cell_type": "code",
   "execution_count": null,
   "metadata": {
    "collapsed": true
   },
   "outputs": [],
   "source": [
    "class NFHB_box(mb.Compound):\n",
    "    \"\"\"A box of NFHB molecules. \n",
    "    \n",
    "    Parameters\n",
    "    ----------\n",
    "    n : int\n",
    "        The number of molecules to place in the box.\n",
    "    box_length : float, optional, default=3.0\n",
    "        The dimension of the box in each dimention (in nm). The class will\n",
    "        assume a cubic box.\n",
    "    \n",
    "    \"\"\"\n",
    "    def __init__(self, n, box_length=3.0):\n",
    "        super(NFHB_box, self).__init__()\n",
    "        \n",
    "        # YOUR\n",
    "        # CODE\n",
    "        # HERE"
   ]
  },
  {
   "cell_type": "markdown",
   "metadata": {},
   "source": [
    "Now, create a box of 100 NFHB molecules and save to a Gromacs topology file (.top extension), applying the OPLS-AA force field. Make sure to pass any necessary flags to the save command so that the Compound will be atom-typed by Foyer."
   ]
  },
  {
   "cell_type": "code",
   "execution_count": null,
   "metadata": {
    "collapsed": true
   },
   "outputs": [],
   "source": [
    "# YOUR CODE HERE"
   ]
  }
 ],
 "metadata": {
  "anaconda-cloud": {},
  "kernelspec": {
   "display_name": "Python 3",
   "language": "python",
   "name": "python3"
  },
  "language_info": {
   "codemirror_mode": {
    "name": "ipython",
    "version": 3
   },
   "file_extension": ".py",
   "mimetype": "text/x-python",
   "name": "python",
   "nbconvert_exporter": "python",
   "pygments_lexer": "ipython3",
   "version": "3.5.2"
  }
 },
 "nbformat": 4,
 "nbformat_minor": 1
}
